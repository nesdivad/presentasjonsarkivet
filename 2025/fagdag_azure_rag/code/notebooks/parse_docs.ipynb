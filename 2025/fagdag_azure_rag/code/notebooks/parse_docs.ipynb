{
 "cells": [
  {
   "cell_type": "code",
   "execution_count": 1,
   "metadata": {},
   "outputs": [],
   "source": [
    "import os\n",
    "\n",
    "from bs4 import BeautifulSoup\n",
    "from markdownify import markdownify as md\n"
   ]
  },
  {
   "cell_type": "code",
   "execution_count": 13,
   "metadata": {},
   "outputs": [],
   "source": [
    "folder_path = \"./fagdag\"\n",
    "markdown_path = \"./markdown\"\n",
    "\n",
    "for filename in os.listdir(folder_path):\n",
    "    if filename.endswith(\".htm\"):\n",
    "        filepath = os.path.join(folder_path, filename)\n",
    "        with open(filepath, mode=\"r\", encoding=\"utf-8\") as file:\n",
    "            content = file.read()\n",
    "\n",
    "            soup = BeautifulSoup(content, \"html.parser\")\n",
    "\n",
    "            soup.can_be_empty_element = False\n",
    "            soup.preserve_whitespace_tags = False\n",
    "\n",
    "            main_content_div = soup.find('div', id='main-content')\n",
    "\n",
    "            markdown = md(str(main_content_div))\n",
    "\n",
    "            markdown_file = os.path.join(markdown_path, filename.replace(\".htm\", \".md\"))\n",
    "            with open(markdown_file, mode=\"w\", encoding=\"utf-8\") as md_file:\n",
    "                md_file.write(markdown)"
   ]
  }
 ],
 "metadata": {
  "kernelspec": {
   "display_name": ".venv",
   "language": "python",
   "name": "python3"
  },
  "language_info": {
   "codemirror_mode": {
    "name": "ipython",
    "version": 3
   },
   "file_extension": ".py",
   "mimetype": "text/x-python",
   "name": "python",
   "nbconvert_exporter": "python",
   "pygments_lexer": "ipython3",
   "version": "3.11.0rc1"
  }
 },
 "nbformat": 4,
 "nbformat_minor": 2
}
